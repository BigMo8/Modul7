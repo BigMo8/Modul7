{
  "nbformat": 4,
  "nbformat_minor": 0,
  "metadata": {
    "colab": {
      "provenance": [],
      "authorship_tag": "ABX9TyOxxDZBZHSzD4VSnTBlvVfa",
      "include_colab_link": true
    },
    "kernelspec": {
      "name": "python3",
      "display_name": "Python 3"
    },
    "language_info": {
      "name": "python"
    }
  },
  "cells": [
    {
      "cell_type": "markdown",
      "metadata": {
        "id": "view-in-github",
        "colab_type": "text"
      },
      "source": [
        "<a href=\"https://colab.research.google.com/github/BigMo8/Modul7/blob/master/operacjenanaarray76_zadanie.ipynb\" target=\"_parent\"><img src=\"https://colab.research.google.com/assets/colab-badge.svg\" alt=\"Open In Colab\"/></a>"
      ]
    },
    {
      "cell_type": "code",
      "source": [
        "!pip install numpy-financial"
      ],
      "metadata": {
        "colab": {
          "base_uri": "https://localhost:8080/"
        },
        "id": "n_UnBAbmLe4X",
        "outputId": "83128f62-be4d-4346-d803-9eb945cac143"
      },
      "execution_count": 1,
      "outputs": [
        {
          "output_type": "stream",
          "name": "stdout",
          "text": [
            "Looking in indexes: https://pypi.org/simple, https://us-python.pkg.dev/colab-wheels/public/simple/\n",
            "Collecting numpy-financial\n",
            "  Downloading numpy_financial-1.0.0-py3-none-any.whl (14 kB)\n",
            "Requirement already satisfied: numpy>=1.15 in /usr/local/lib/python3.9/dist-packages (from numpy-financial) (1.22.4)\n",
            "Installing collected packages: numpy-financial\n",
            "Successfully installed numpy-financial-1.0.0\n"
          ]
        }
      ]
    },
    {
      "cell_type": "code",
      "execution_count": 109,
      "metadata": {
        "colab": {
          "base_uri": "https://localhost:8080/"
        },
        "id": "rpkrZ2odLIvQ",
        "outputId": "6a141e60-4814-4740-8fd1-9edaafc26ccb"
      },
      "outputs": [
        {
          "output_type": "stream",
          "name": "stdout",
          "text": [
            "126000.0 132300.0 138915.0 145860.75 153153.79 Orientacyjna cena mieszkania po 5 latach wyniesie 153153.79 PLN\n",
            "Pierwsza wpłata na lokatę musi być nie mniejsza niż: 83799.11 PLN\n"
          ]
        },
        {
          "output_type": "execute_result",
          "data": {
            "text/plain": [
              "array([151182.47, 151182.47, 151182.47, 151182.47, 151182.47, 151182.47,\n",
              "       151182.47, 151182.47, 151182.47, 151182.47, 151182.47, 151182.47,\n",
              "       151182.47, 151182.47, 151182.47, 151182.47, 151182.47, 151182.47,\n",
              "       151182.47, 151182.47, 151182.47, 151182.47, 151182.47, 151182.47,\n",
              "       151182.47, 151182.47, 151182.47, 151182.47, 151182.47, 151182.47,\n",
              "       151182.47, 151182.47, 151182.47, 151182.47, 151182.47, 151182.47,\n",
              "       151182.47, 151182.47, 151182.47, 151182.47, 151182.47, 151182.47,\n",
              "       151182.47, 151182.47, 151182.47, 151182.47, 151182.47, 151182.47,\n",
              "       151182.47, 151182.47, 151182.47, 151182.47, 151182.47, 151182.47,\n",
              "       151182.47, 151182.47, 151182.47, 151182.47, 151182.47, 151182.47])"
            ]
          },
          "metadata": {},
          "execution_count": 109
        }
      ],
      "source": [
        "import numpy as np\n",
        "import numpy_financial as npf\n",
        "import matplotlib.pyplot as plt\n",
        "\n",
        "rate = 0.05 #wzrost ceny w skali roku\n",
        "rate_depo = 0.12 #oprocentowanie lokaty w skali roku\n",
        "years = 5 \n",
        "months = 12\n",
        "nper = years * months\n",
        "pv = 120000 #wartość mieszkania\n",
        "startupcapital = float() #wartość kapitału wnoszonego na lokatę\n",
        "rate_depo_perperiod = np.round(rate_depo / months,6)\n",
        "\n",
        "#OLICZENIE WZORTU WARTOŚCI MIESZKANIA\n",
        "a=pv\n",
        "n = 6\n",
        "while n > 1:\n",
        "  a = a+(a*rate)\n",
        "  print(np.round(a,2), end=\" \")\n",
        "  n -= 1\n",
        "  flatvalue = a\n",
        "print(\"Orientacyjna cena mieszkania po 5 latach wyniesie\", round(flatvalue,2), \"PLN\")\n",
        "\n",
        "#OBLICZENIE WZORSTU WARTOŚCI NA NUMPY FINANCIAL - BAZUJĄC NA NPF.IPMT\n",
        "years = np.arange(1,years+1,dtype=int)\n",
        "interest_equal = - np.around(npf.ipmt(rate,years,nper,pv),2)\n",
        "interest_equal = np.sort(interest_equal)[::1]\n",
        "balance = np.zeros(years) + pv\n",
        "balance_close = np.around(balance + np.cumsum(interest_equal),2)\n",
        "\n",
        "#OBLICZENIE KAPITAŁU POCZĄTKOWEGO NA LOKACIE\n",
        "b=flatvalue\n",
        "nn = 61\n",
        "while nn > 1:\n",
        "  b  = b-(b*rate_depo_perperiod)\n",
        "  #print(np.round(b,2), end=\" \")\n",
        "  nn -= 1\n",
        "  startupcapital = b\n",
        "print(\"Pierwsza wpłata na lokatę musi być nie mniejsza niż:\", round(startupcapital,2), \"PLN\")\n",
        "\n",
        "#OBLICZENIE KAPITAŁU POCZĄTKOWEGO NA LOKACIE - BAZUJĄC NA NPF.IPMT\n",
        "finalvalue = 153153.79\n",
        "periods = np.arange(nper+1,1,dtype=int)\n",
        "interest_equal2 = np.around(npf.ipmt(rate_depo_perperiod,nper,nper,finalvalue),2)\n",
        "balance2 = np.zeros(nper) + finalvalue\n",
        "balance_close2 = np.around(balance2 - np.cumsum(interest_equal2),2)\n",
        "\n",
        "#balance_close[-1] == 153153.79 \n",
        "interest_equal2\n",
        "balance_close2"
      ]
    }
  ]
}