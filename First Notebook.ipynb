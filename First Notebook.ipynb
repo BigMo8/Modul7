{
 "cells": [
  {
   "cell_type": "markdown",
   "id": "362b1b94",
   "metadata": {},
   "source": [
    "# Opisujemy funkcje opisując ją wyrażeniem def"
   ]
  },
  {
   "cell_type": "code",
   "execution_count": 50,
   "id": "83cea665",
   "metadata": {},
   "outputs": [],
   "source": [
    "def dodawanie(a,b,c):\n",
    "    wynik = a + b + c\n",
    "    return wynik\n",
    "\n",
    "def rok_miesiace(x, month):\n",
    "    for month in range(1, 13):\n",
    "        print(\"Rok\" + str(x) + \" \" + \"Miesiąc\" + str(month))"
   ]
  },
  {
   "cell_type": "markdown",
   "id": "4bd389c2",
   "metadata": {},
   "source": [
    "## Wywołujemy funkcje podając zmienne w nawiasie okrągłym, po przecinkach"
   ]
  },
  {
   "cell_type": "code",
   "execution_count": 51,
   "id": "f50befca",
   "metadata": {},
   "outputs": [
    {
     "data": {
      "text/plain": [
       "3"
      ]
     },
     "execution_count": 51,
     "metadata": {},
     "output_type": "execute_result"
    }
   ],
   "source": [
    "dodawanie(1,1,1)"
   ]
  },
  {
   "cell_type": "code",
   "execution_count": 52,
   "id": "5a35468f",
   "metadata": {},
   "outputs": [
    {
     "name": "stdout",
     "output_type": "stream",
     "text": [
      "Rok2022 Miesiąc1\n",
      "Rok2022 Miesiąc2\n",
      "Rok2022 Miesiąc3\n",
      "Rok2022 Miesiąc4\n",
      "Rok2022 Miesiąc5\n",
      "Rok2022 Miesiąc6\n",
      "Rok2022 Miesiąc7\n",
      "Rok2022 Miesiąc8\n",
      "Rok2022 Miesiąc9\n",
      "Rok2022 Miesiąc10\n",
      "Rok2022 Miesiąc11\n",
      "Rok2022 Miesiąc12\n"
     ]
    }
   ],
   "source": [
    "rok_miesiace(2022,month='kwiecień')"
   ]
  },
  {
   "cell_type": "code",
   "execution_count": null,
   "id": "299fb0ba",
   "metadata": {},
   "outputs": [],
   "source": []
  },
  {
   "cell_type": "code",
   "execution_count": null,
   "id": "e880505c",
   "metadata": {},
   "outputs": [],
   "source": []
  }
 ],
 "metadata": {
  "kernelspec": {
   "display_name": "Python 3 (ipykernel)",
   "language": "python",
   "name": "python3"
  },
  "language_info": {
   "codemirror_mode": {
    "name": "ipython",
    "version": 3
   },
   "file_extension": ".py",
   "mimetype": "text/x-python",
   "name": "python",
   "nbconvert_exporter": "python",
   "pygments_lexer": "ipython3",
   "version": "3.10.9"
  }
 },
 "nbformat": 4,
 "nbformat_minor": 5
}
